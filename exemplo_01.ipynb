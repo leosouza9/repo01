{
  "nbformat": 4,
  "nbformat_minor": 0,
  "metadata": {
    "colab": {
      "name": "exemplo_01.ipynb",
      "provenance": [],
      "collapsed_sections": [],
      "authorship_tag": "ABX9TyNekWzqzsVQ5ytGsY2jbA3U",
      "include_colab_link": true
    },
    "kernelspec": {
      "name": "python3",
      "display_name": "Python 3"
    }
  },
  "cells": [
    {
      "cell_type": "markdown",
      "metadata": {
        "id": "view-in-github",
        "colab_type": "text"
      },
      "source": [
        "<a href=\"https://colab.research.google.com/github/leosouza9/repo01/blob/master/exemplo_01.ipynb\" target=\"_parent\"><img src=\"https://colab.research.google.com/assets/colab-badge.svg\" alt=\"Open In Colab\"/></a>"
      ]
    },
    {
      "cell_type": "code",
      "metadata": {
        "id": "RPdkZnJYw5jW",
        "colab_type": "code",
        "colab": {
          "base_uri": "https://localhost:8080/",
          "height": 72
        },
        "outputId": "cdd0278b-5be9-47df-cbf1-263e645c3ea9"
      },
      "source": [
        "### ISTO É UM COMANDO DE SAÍDA\n",
        "print('olá mundo cruel!!!')\n",
        "print('hello world!!!')\n",
        "print(\"'com aspas dupla'\")\n",
        "\n",
        "# a hashtag é um comentário no código, ou seja, o programa não irá processar nenhuma linha que tiver marcada.\n",
        "# o comando print() mostra na tela, ou seja, é uma saída de valor(es).\n",
        "# o conteúdo texto deve estar entre aspas (simples ou dupla).\n",
        "\n",
        "\n"
      ],
      "execution_count": 11,
      "outputs": [
        {
          "output_type": "stream",
          "text": [
            "olá mundo cruel!!!\n",
            "hello world!!!\n",
            "'com aspas dupla'\n"
          ],
          "name": "stdout"
        }
      ]
    },
    {
      "cell_type": "markdown",
      "metadata": {
        "id": "8Qt8mQ8X5KWv",
        "colab_type": "text"
      },
      "source": [
        ""
      ]
    },
    {
      "cell_type": "code",
      "metadata": {
        "id": "EEHTrAzK5Yfn",
        "colab_type": "code",
        "colab": {
          "base_uri": "https://localhost:8080/",
          "height": 35
        },
        "outputId": "d1722156-0755-4e66-d809-504c5c89c143"
      },
      "source": [
        "print ('leonardo', 'de', 'souza')\n"
      ],
      "execution_count": 12,
      "outputs": [
        {
          "output_type": "stream",
          "text": [
            "leonardo de souza\n"
          ],
          "name": "stdout"
        }
      ]
    },
    {
      "cell_type": "markdown",
      "metadata": {
        "id": "P1eP4dRY5EgH",
        "colab_type": "text"
      },
      "source": [
        "Abaixo, vamos ver como mesclar uma saída de tela."
      ]
    },
    {
      "cell_type": "markdown",
      "metadata": {
        "id": "icD1voln4pgt",
        "colab_type": "text"
      },
      "source": [
        "Esta é uma célula apenas de texto.\n",
        "Aqui posso fazer formatações usando as ferramentas que estão na barra. Por exemplo, **isto está em negrito**, *isto está em itálico*\n"
      ]
    }
  ]
}